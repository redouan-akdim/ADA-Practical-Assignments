{
  "nbformat": 4,
  "nbformat_minor": 0,
  "metadata": {
    "kernelspec": {
      "display_name": "Python 3",
      "language": "python",
      "name": "python3"
    },
    "language_info": {
      "codemirror_mode": {
        "name": "ipython",
        "version": 3
      },
      "file_extension": ".py",
      "mimetype": "text/x-python",
      "name": "python",
      "nbconvert_exporter": "python",
      "pygments_lexer": "ipython3",
      "version": "3.7.0"
    },
    "colab": {
      "provenance": [],
      "toc_visible": true,
      "include_colab_link": true
    }
  },
  "cells": [
    {
      "cell_type": "markdown",
      "metadata": {
        "id": "view-in-github",
        "colab_type": "text"
      },
      "source": [
        "<a href=\"https://colab.research.google.com/github/redouan-akdim/ADA-Practical-Assignments/blob/main/HandsOnPython_01_PythonBasics.ipynb\" target=\"_parent\"><img src=\"https://colab.research.google.com/assets/colab-badge.svg\" alt=\"Open In Colab\"/></a>"
      ]
    },
    {
      "cell_type": "markdown",
      "metadata": {
        "id": "vRXh0rSJm1WK"
      },
      "source": [
        "# Python Basics\n",
        "Dieses Notebook zeigt die wichtigsten Basics zum Nutzen von jupyter Notebooks und Python."
      ]
    },
    {
      "cell_type": "markdown",
      "metadata": {
        "id": "ZbNGkVNlm1WS"
      },
      "source": [
        "## Zellen\n",
        "Das Notebook besteht aus verschiedenen Zellen. Eine Zelle kann durch Drücken von Shift + Enter (oder in Google Colab auch durch Drücken des Play-Knopfes) ausgeführt werden. Zellen können Infotexte enthalten (Text bzw. Markdown), oder\n",
        "Code."
      ]
    },
    {
      "cell_type": "markdown",
      "metadata": {
        "id": "xZBmhrrmm1WU"
      },
      "source": [
        "## Die Print Funktion"
      ]
    },
    {
      "cell_type": "code",
      "metadata": {
        "id": "guuufMZEm1WV",
        "colab": {
          "base_uri": "https://localhost:8080/"
        },
        "outputId": "b0721872-a253-4bb8-cc3c-0cdd5b3bf442"
      },
      "source": [
        "a=0\n",
        "b=3\n",
        "c=\"In\"\n",
        "d=\"lerne ich Datenanalyse mit Python!\"\n",
        "e=\"Komma nix\"\n",
        "\n",
        "#Wie müssen Sie die print Funktion füllen, damit der Satz ausgegeben wird \"In 0 Komma nix lerne ich Datenanalyse mit Python!\"?\n",
        "print(c,a,e,d)\n"
      ],
      "execution_count": null,
      "outputs": [
        {
          "output_type": "stream",
          "name": "stdout",
          "text": [
            "In 0 Komma nix lerne ich Datenanalyse mit Python!\n"
          ]
        }
      ]
    },
    {
      "cell_type": "markdown",
      "metadata": {
        "id": "1FbGrxrDm1Wb"
      },
      "source": [
        "## Kommentare in Python\n",
        "- Welche beiden Möglichkeiten für Kommentare in Python kennen Sie?\n",
        "- Probieren Sie beide aus."
      ]
    },
    {
      "cell_type": "code",
      "metadata": {
        "id": "Tu7LQV1Nm1Wd"
      },
      "source": [
        "# Das ist ein einfacher Kommentar\n",
        "\"\"\"\n",
        "Das ist ein mehrzeiliger Kommentar (oder auch: Docstring)\n",
        "\"\"\""
      ],
      "execution_count": null,
      "outputs": []
    },
    {
      "cell_type": "markdown",
      "metadata": {
        "id": "DKhX0z7Bm1Wf"
      },
      "source": [
        "\n",
        "## Operatoren und if/else Abfragen\n",
        "- Definieren Sie sich eine Variable x, der Sie zunächst den Wert 10 zuweisen.\n",
        "- Formulieren Sie nun eine Abfrage: Falls x größer oder gleich 10 ist, soll die Variable y als x hoch x berechnet werden...\n",
        "- und anschließend mit der print Funktion ausgegeben werden.\n",
        "- Setzen Sie x oben in der Zelle nun nicht mehr auf 10, sondern auf 10000.\n",
        "- Setzen Sie x oben in der Zelle nun nicht mehr auf 10000, sondern auf 0."
      ]
    },
    {
      "cell_type": "code",
      "metadata": {
        "scrolled": true,
        "id": "3mvnNnvKm1Wh",
        "colab": {
          "base_uri": "https://localhost:8080/"
        },
        "outputId": "65704d93-47bc-4372-c45d-d04d62b0c5c5"
      },
      "source": [
        "x = 10\n",
        "\n",
        "if x >= 10:\n",
        "  y = x**x\n",
        "  print(y)\n",
        "\n",
        "# Bei x = 10000 -> ValueError: Exceeds the limit (4300) for integer string conversion; use sys.set_int_max_str_digits() to increase the limit\n",
        "# Bei x = 0 -> Keine Ausgabe, da 0 < 10!"
      ],
      "execution_count": null,
      "outputs": [
        {
          "output_type": "stream",
          "name": "stdout",
          "text": [
            "10000000000\n"
          ]
        }
      ]
    },
    {
      "cell_type": "markdown",
      "metadata": {
        "id": "hDyX27okm1Wj"
      },
      "source": [
        "## if/else Abfragen mit logischen Operatoren\n",
        "- Definieren Sie sich zwei Variablen completed und valid, die zunächst beide den Wert False haben.\n",
        "- Falls completed und valid beide True sind, soll folgender Text ausgegeben werden: \"Die Berechnung war erfolgreich.\"\n",
        "- Ansonsten soll ausgegeben werden: \"Die Berechnung war leider nicht erfolgreich.\"\n",
        "- Zudem soll bei nicht erfolgreicher Berechnung der Wert von completed und valid ausgegeben werden.\n",
        "- Überprüfen Sie Ihre Implementierung durch Variieren der Werte von valid und complete"
      ]
    },
    {
      "cell_type": "code",
      "metadata": {
        "id": "oisT0xoTm1Wl",
        "colab": {
          "base_uri": "https://localhost:8080/"
        },
        "outputId": "4683a42b-582e-474b-960f-4d2079636b20"
      },
      "source": [
        "completed = True\n",
        "valid = True\n",
        "\n",
        "if completed and valid:\n",
        "  print(\"Die Berechnung war erfolgreich.\")\n",
        "else:\n",
        "  print(\"Die Berechnung war leider nicht erfolgreich.\")\n",
        "  print(\"completed:\",completed,\"\\nvalid:\",valid)\n"
      ],
      "execution_count": null,
      "outputs": [
        {
          "output_type": "stream",
          "name": "stdout",
          "text": [
            "Die Berechnung war erfolgreich.\n"
          ]
        }
      ]
    },
    {
      "cell_type": "markdown",
      "metadata": {
        "id": "sj3n53dBm1Wn"
      },
      "source": [
        "## Definieren von Funktionen\n",
        "- Schreiben Sie eine Funktion, die den Betrag der Zahl x ausgibt\n",
        "- Definieren Sie eine Variable z. Wenden Sie Ihre Funktion auf z an. Variieren Sie den Wert von z."
      ]
    },
    {
      "cell_type": "code",
      "metadata": {
        "id": "2qkcM7qim1Wo",
        "colab": {
          "base_uri": "https://localhost:8080/"
        },
        "outputId": "7c299ba1-8c27-4f2d-b178-6dba7626c531"
      },
      "source": [
        "def print_absolute_value(x):\n",
        "  print(abs(x))\n",
        "\n",
        "z = -888.6547\n",
        "print_absolute_value(z)"
      ],
      "execution_count": null,
      "outputs": [
        {
          "output_type": "stream",
          "name": "stdout",
          "text": [
            "888.6547\n"
          ]
        }
      ]
    },
    {
      "cell_type": "markdown",
      "metadata": {
        "id": "gEdU91nzm1Wq"
      },
      "source": [
        "## Einbinden von Bibliotheken\n",
        "- Bibliotheken (oder auch Pakete, Module genannt) wie pandas, numpy, matplotlib bieten Funktionalitäten zur Datenauswertung und -visualisierung.\n",
        "- Um diese nutzen zu können, müssen sie über den import Befehl eingebunden werden.\n",
        "- Häufig wird dabei direkt ein Kürzel für das jeweilige Paket vergeben (z.B. pd für pandas, np für numpy), um einfacher auf die jeweiligen Methoden zugreifen zu können.\n",
        "- Zugriff auf eine Methode einer Bibliothek z.B. über np.methodenname() falls Kürzel vergeben\n",
        "- über numpy.methodenname() falls kein Kürzel vergeben\n",
        "\n",
        "- Aufgabe: importieren Sie numpy, definieren Sie sich eine Variable y, lassen Sie sich den Sinus Hyperbolicus dieser Variable ausgeben"
      ]
    },
    {
      "cell_type": "code",
      "metadata": {
        "id": "HEKFCN6sm1Wq",
        "colab": {
          "base_uri": "https://localhost:8080/"
        },
        "outputId": "b2ff4c51-1212-434a-8708-fa29aa01b5d9"
      },
      "source": [
        "import numpy as np\n",
        "y = np.pi\n",
        "print(y)\n",
        "np.sinh(y)"
      ],
      "execution_count": null,
      "outputs": [
        {
          "output_type": "stream",
          "name": "stdout",
          "text": [
            "3.141592653589793\n"
          ]
        },
        {
          "output_type": "execute_result",
          "data": {
            "text/plain": [
              "11.548739357257748"
            ]
          },
          "metadata": {},
          "execution_count": 14
        }
      ]
    },
    {
      "cell_type": "code",
      "source": [],
      "metadata": {
        "id": "u-8qZxp1NcjZ"
      },
      "execution_count": null,
      "outputs": []
    }
  ]
}